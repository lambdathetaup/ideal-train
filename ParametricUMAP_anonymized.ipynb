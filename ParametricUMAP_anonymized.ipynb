{
  "nbformat": 4,
  "nbformat_minor": 0,
  "metadata": {
    "kernelspec": {
      "display_name": "Python 3",
      "language": "python",
      "name": "python3"
    },
    "language_info": {
      "codemirror_mode": {
        "name": "ipython",
        "version": 3
      },
      "file_extension": ".py",
      "mimetype": "text/x-python",
      "name": "python",
      "nbconvert_exporter": "python",
      "pygments_lexer": "ipython3",
      "version": "3.6.7"
    },
    "colab": {
      "provenance": []
    },
    "accelerator": "GPU"
  },
  "cells": [
    {
      "cell_type": "markdown",
      "metadata": {
        "ExecuteTime": {
          "end_time": "2020-09-27T05:04:10.058570Z",
          "start_time": "2020-09-27T05:04:10.052105Z"
        },
        "id": "JXBBoZxFXWI5"
      },
      "source": [
        "# Parametric UMAP\n",
        "\n",
        "This notebook walks you through the basic algorithm for Parametric UMAP (anonymized for ICLR) in a more verbose (but still high-level) way.\n",
        "\n",
        "The code used in the implementation subclasses umap.UMAP and replaces the fit method with a neural network. Here, we'll go through the algorithm, starting with graph construction, one step at a time.\n"
      ]
    },
    {
      "cell_type": "markdown",
      "metadata": {
        "id": "MJnz-JrSXx01"
      },
      "source": [
        "### Install packages"
      ]
    },
    {
      "cell_type": "code",
      "metadata": {
        "id": "pDYk_7nYYbgl"
      },
      "source": [
        "!pip install llvmlite>=0.34.0"
      ],
      "execution_count": null,
      "outputs": []
    },
    {
      "cell_type": "code",
      "metadata": {
        "id": "tiwpKAqDYUM2",
        "outputId": "eb426c37-89d3-493f-a9da-becf586d694e",
        "colab": {
          "base_uri": "https://localhost:8080/"
        }
      },
      "source": [
        "!pip install --upgrade pynndescent"
      ],
      "execution_count": null,
      "outputs": [
        {
          "output_type": "stream",
          "text": [
            "Requirement already up-to-date: pynndescent in /usr/local/lib/python3.6/dist-packages (0.5.0)\n",
            "Requirement already satisfied, skipping upgrade: joblib>=0.11 in /usr/local/lib/python3.6/dist-packages (from pynndescent) (0.17.0)\n",
            "Requirement already satisfied, skipping upgrade: scipy>=1.0 in /usr/local/lib/python3.6/dist-packages (from pynndescent) (1.4.1)\n",
            "Requirement already satisfied, skipping upgrade: llvmlite>=0.30 in /usr/local/lib/python3.6/dist-packages (from pynndescent) (0.34.0)\n",
            "Requirement already satisfied, skipping upgrade: scikit-learn>=0.18 in /usr/local/lib/python3.6/dist-packages (from pynndescent) (0.22.2.post1)\n",
            "Requirement already satisfied, skipping upgrade: numba>=0.51.2 in /usr/local/lib/python3.6/dist-packages (from pynndescent) (0.51.2)\n",
            "Requirement already satisfied, skipping upgrade: numpy>=1.13.3 in /usr/local/lib/python3.6/dist-packages (from scipy>=1.0->pynndescent) (1.18.5)\n",
            "Requirement already satisfied, skipping upgrade: setuptools in /usr/local/lib/python3.6/dist-packages (from numba>=0.51.2->pynndescent) (50.3.2)\n"
          ],
          "name": "stdout"
        }
      ]
    },
    {
      "cell_type": "code",
      "metadata": {
        "id": "NUEqcHlvXyKL",
        "outputId": "7077cdad-5a69-48b3-861d-f70bae3aeb3c",
        "colab": {
          "base_uri": "https://localhost:8080/"
        }
      },
      "source": [
        "!pip install https://github.com/lmcinnes/umap/archive/0.5dev.zip"
      ],
      "execution_count": null,
      "outputs": [
        {
          "output_type": "stream",
          "text": [
            "Collecting https://github.com/lmcinnes/umap/archive/0.5dev.zip\n",
            "  Using cached https://github.com/lmcinnes/umap/archive/0.5dev.zip\n",
            "Requirement already satisfied (use --upgrade to upgrade): umap-learn==0.5.0 from https://github.com/lmcinnes/umap/archive/0.5dev.zip in /usr/local/lib/python3.6/dist-packages\n",
            "Requirement already satisfied: numpy>=1.16 in /usr/local/lib/python3.6/dist-packages (from umap-learn==0.5.0) (1.18.5)\n",
            "Requirement already satisfied: scikit-learn>=0.22 in /usr/local/lib/python3.6/dist-packages (from umap-learn==0.5.0) (0.22.2.post1)\n",
            "Requirement already satisfied: scipy>=1.0 in /usr/local/lib/python3.6/dist-packages (from umap-learn==0.5.0) (1.4.1)\n",
            "Requirement already satisfied: numba>=0.49 in /usr/local/lib/python3.6/dist-packages (from umap-learn==0.5.0) (0.51.2)\n",
            "Requirement already satisfied: pynndescent>=0.4.5 in /usr/local/lib/python3.6/dist-packages (from umap-learn==0.5.0) (0.5.0)\n",
            "Requirement already satisfied: tbb>=2019 in /usr/local/lib/python3.6/dist-packages (from umap-learn==0.5.0) (2020.3.254)\n",
            "Requirement already satisfied: joblib>=0.11 in /usr/local/lib/python3.6/dist-packages (from scikit-learn>=0.22->umap-learn==0.5.0) (0.17.0)\n",
            "Requirement already satisfied: setuptools in /usr/local/lib/python3.6/dist-packages (from numba>=0.49->umap-learn==0.5.0) (50.3.2)\n",
            "Requirement already satisfied: llvmlite<0.35,>=0.34.0.dev0 in /usr/local/lib/python3.6/dist-packages (from numba>=0.49->umap-learn==0.5.0) (0.34.0)\n",
            "Building wheels for collected packages: umap-learn\n",
            "  Building wheel for umap-learn (setup.py) ... \u001b[?25l\u001b[?25hdone\n",
            "  Created wheel for umap-learn: filename=umap_learn-0.5.0-cp36-none-any.whl size=78923 sha256=f408049a35b538eb37f0dfbb0d5ff18b25af59d4218e5feb92b4da4ce5c4af67\n",
            "  Stored in directory: /tmp/pip-ephem-wheel-cache-m998vunf/wheels/31/8a/95/86cddaaadaca56cbcf4e8f67785ac4b85514a962c8e25c05a6\n",
            "Successfully built umap-learn\n"
          ],
          "name": "stdout"
        }
      ]
    },
    {
      "cell_type": "markdown",
      "metadata": {
        "id": "dt619p-UXWI7"
      },
      "source": [
        "### load dataset\n",
        "We will use MNIST for this example."
      ]
    },
    {
      "cell_type": "code",
      "metadata": {
        "ExecuteTime": {
          "end_time": "2020-09-27T16:15:13.485609Z",
          "start_time": "2020-09-27T16:15:03.551813Z"
        },
        "id": "NW3eVu9fXWI8"
      },
      "source": [
        "from tensorflow.keras.datasets import mnist"
      ],
      "execution_count": null,
      "outputs": []
    },
    {
      "cell_type": "code",
      "metadata": {
        "ExecuteTime": {
          "end_time": "2020-09-27T16:15:13.721062Z",
          "start_time": "2020-09-27T16:15:13.488081Z"
        },
        "id": "xllo9_FLXWI_",
        "outputId": "98d58990-342f-4a77-cd1b-be0c7cf1a411",
        "colab": {
          "base_uri": "https://localhost:8080/"
        }
      },
      "source": [
        "# load dataset\n",
        "(train_images, train_labels), (test_images, test_labels) = mnist.load_data()\n",
        "X = train_images.reshape((60000, 28, 28, 1))\n",
        "X.shape"
      ],
      "execution_count": null,
      "outputs": [
        {
          "output_type": "execute_result",
          "data": {
            "text/plain": [
              "(60000, 28, 28, 1)"
            ]
          },
          "metadata": {
            "tags": []
          },
          "execution_count": 5
        }
      ]
    },
    {
      "cell_type": "markdown",
      "metadata": {
        "id": "vGTp6qE7XWJD"
      },
      "source": [
        "## Part 1: Building the Graph\n",
        "The first part of Parametric UMAP is shared with non-parametric UMAP, so we can use the same code. First we build a nearest-neighbors graph, using pynndescent, then we build a fuzzy simplicial complex."
      ]
    },
    {
      "cell_type": "markdown",
      "metadata": {
        "id": "Zvpimd69XWJE"
      },
      "source": [
        "### Build nearest neighbor's graph\n",
        "We're just building a nearest neighbors graph here. You can play around with replacing this code with your own nearest neighbor estimator if you'd like."
      ]
    },
    {
      "cell_type": "code",
      "metadata": {
        "ExecuteTime": {
          "end_time": "2020-09-27T16:15:17.854470Z",
          "start_time": "2020-09-27T16:15:13.722484Z"
        },
        "id": "P4b9CSMvXWJE"
      },
      "source": [
        "from pynndescent import NNDescent\n",
        "import numpy as np"
      ],
      "execution_count": null,
      "outputs": []
    },
    {
      "cell_type": "code",
      "metadata": {
        "ExecuteTime": {
          "end_time": "2020-09-27T16:15:34.196938Z",
          "start_time": "2020-09-27T16:15:17.855699Z"
        },
        "id": "kKMpjQCcXWJH",
        "outputId": "7fefb95f-fd40-4a48-c109-d09201bee491",
        "colab": {
          "base_uri": "https://localhost:8080/"
        }
      },
      "source": [
        "# number of trees in random projection forest\n",
        "n_trees = 5 + int(round((X.shape[0]) ** 0.5 / 20.0))\n",
        "# max number of nearest neighbor iters to perform\n",
        "n_iters = max(5, int(round(np.log2(X.shape[0]))))\n",
        "# distance metric\n",
        "metric=\"euclidean\"\n",
        "# number of neighbors for computing k-neighbor graph\n",
        "n_neighbors = 10\n",
        "\n",
        "# get nearest neighbors\n",
        "nnd = NNDescent(\n",
        "    X.reshape((len(X), np.product(np.shape(X)[1:]))),\n",
        "    n_neighbors=n_neighbors,\n",
        "    metric=metric,\n",
        "    n_trees=n_trees,\n",
        "    n_iters=n_iters,\n",
        "    max_candidates=60,\n",
        "    verbose=True\n",
        ")\n",
        "# get indices and distances\n",
        "knn_indices, knn_dists = nnd.neighbor_graph"
      ],
      "execution_count": null,
      "outputs": [
        {
          "output_type": "stream",
          "text": [
            "Fri Nov 13 19:48:07 2020 Building RP forest with 17 trees\n",
            "Fri Nov 13 19:48:14 2020 NN descent for 16 iterations\n",
            "\t 1  /  16\n",
            "\t 2  /  16\n",
            "\t 3  /  16\n",
            "\t 4  /  16\n",
            "\t 5  /  16\n",
            "\tStopping threshold met -- exiting after 5 iterations\n"
          ],
          "name": "stdout"
        }
      ]
    },
    {
      "cell_type": "code",
      "metadata": {
        "ExecuteTime": {
          "end_time": "2020-09-27T16:15:34.202415Z",
          "start_time": "2020-09-27T16:15:34.198522Z"
        },
        "id": "BwAID0P-XWJK",
        "outputId": "2d10f486-9d09-4c18-ec3c-665710f0cdd3",
        "colab": {
          "base_uri": "https://localhost:8080/"
        }
      },
      "source": [
        "# nearest neighbors and distances for each point in the dataset\n",
        "np.shape(knn_indices), np.shape(knn_dists)"
      ],
      "execution_count": null,
      "outputs": [
        {
          "output_type": "execute_result",
          "data": {
            "text/plain": [
              "((60000, 10), (60000, 10))"
            ]
          },
          "metadata": {
            "tags": []
          },
          "execution_count": 8
        }
      ]
    },
    {
      "cell_type": "markdown",
      "metadata": {
        "id": "W08HYAgWXWJN"
      },
      "source": [
        "### Build fuzzy simplicial  complex"
      ]
    },
    {
      "cell_type": "markdown",
      "metadata": {
        "id": "mfw7ylPZXWJO"
      },
      "source": [
        "The `fuzzy_simplicial_set` function takes the nearest neighbor graph and computes a graph of the probabilities of an edge exists between points."
      ]
    },
    {
      "cell_type": "markdown",
      "metadata": {
        "id": "NNdqj3XOXWJO"
      },
      "source": [
        "Local, one-directional, probabilities ($P^{\\textrm{UMAP}}_{i|j}$) are computed between a point and its neighbors to determine the probability with which an edge (or simplex exists), based upon an assumption that data is uniformly distributed across a manifold in a warped dataspace. Under this assumption, a local notion of distance is set by the distance to the $k$\\textsuperscript{th} nearest neighbor and the local probability is scaled by that local notion of distance."
      ]
    },
    {
      "cell_type": "markdown",
      "metadata": {
        "ExecuteTime": {
          "end_time": "2020-09-27T05:16:17.986700Z",
          "start_time": "2020-09-27T05:16:17.950599Z"
        },
        "id": "H8Uh1YEvXWJP"
      },
      "source": [
        "$$\n",
        "p_{j \\mid i}^{\\textrm{UMAP}} = \\exp( -(\\textrm{d}( \\mathbf{x}_{i},\\mathbf{x}_{j}) - \\rho_{i}) / \\sigma_{i})\n",
        "$$"
      ]
    },
    {
      "cell_type": "markdown",
      "metadata": {
        "id": "XcxgLc9mXWJP"
      },
      "source": [
        "Where $\\rho_{i}$ is a local connectivity parameter set to the distance from $x_i$ to its nearest neighbor, and $\\sigma_{i}$ is a local connectivity parameter set to match the local distance around $x_i$ upon its $k$ nearest neighbors (where $k$ is a hyperparameter). In the UMAP package, these are calculated using `smooth_knn_dist`."
      ]
    },
    {
      "cell_type": "markdown",
      "metadata": {
        "id": "rjlWM9ktXWJQ"
      },
      "source": [
        "After computing the one-directional edge probabilities for each datapoint, we then compute a global probability as the probability of either of the two local, one-directional, probabilities occurring:"
      ]
    },
    {
      "cell_type": "markdown",
      "metadata": {
        "id": "tXSQXAAMXWJQ"
      },
      "source": [
        "$$\n",
        "p_{i j}=\\left(p_{j \\mid i}+p_{i \\mid j}\\right)-p_{j \\mid i} p_{i \\mid j}\n",
        "$$"
      ]
    },
    {
      "cell_type": "code",
      "metadata": {
        "ExecuteTime": {
          "end_time": "2020-09-27T16:15:35.628098Z",
          "start_time": "2020-09-27T16:15:34.204517Z"
        },
        "id": "XGfufPVZXWJR"
      },
      "source": [
        "from sklearn.utils import check_random_state\n",
        "from umap.umap_ import fuzzy_simplicial_set"
      ],
      "execution_count": null,
      "outputs": []
    },
    {
      "cell_type": "code",
      "metadata": {
        "ExecuteTime": {
          "end_time": "2020-09-27T16:15:35.637707Z",
          "start_time": "2020-09-27T16:15:35.634012Z"
        },
        "id": "4_tWKJMqXWJT"
      },
      "source": [
        "# get indices and distances\n",
        "knn_indices, knn_dists = nnd.neighbor_graph\n",
        "random_state = check_random_state(None)"
      ],
      "execution_count": null,
      "outputs": []
    },
    {
      "cell_type": "code",
      "metadata": {
        "ExecuteTime": {
          "end_time": "2020-09-27T16:15:38.153718Z",
          "start_time": "2020-09-27T16:15:35.638908Z"
        },
        "id": "YiSwavUBXWJV"
      },
      "source": [
        "# build fuzzy_simplicial_set\n",
        "umap_graph, sigmas, rhos = fuzzy_simplicial_set(\n",
        "    X = X,\n",
        "    n_neighbors = n_neighbors,\n",
        "    metric = metric,\n",
        "    random_state = random_state,\n",
        "    knn_indices= knn_indices,\n",
        "    knn_dists = knn_dists,\n",
        ")"
      ],
      "execution_count": null,
      "outputs": []
    },
    {
      "cell_type": "code",
      "metadata": {
        "ExecuteTime": {
          "end_time": "2020-09-27T16:15:38.158922Z",
          "start_time": "2020-09-27T16:15:38.155304Z"
        },
        "id": "WcswAndzXWJY",
        "outputId": "2ddf11b5-d346-4e71-ea03-646804350c10",
        "colab": {
          "base_uri": "https://localhost:8080/"
        }
      },
      "source": [
        "umap_graph"
      ],
      "execution_count": null,
      "outputs": [
        {
          "output_type": "execute_result",
          "data": {
            "text/plain": [
              "<60000x60000 sparse matrix of type '<class 'numpy.float32'>'\n",
              "\twith 803618 stored elements in Compressed Sparse Row format>"
            ]
          },
          "metadata": {
            "tags": []
          },
          "execution_count": 12
        }
      ]
    },
    {
      "cell_type": "markdown",
      "metadata": {
        "id": "qwcZOK9aXWJa"
      },
      "source": [
        "## Part 2: Embedding the graph"
      ]
    },
    {
      "cell_type": "markdown",
      "metadata": {
        "id": "rf3h1WHyXWJb"
      },
      "source": [
        "Now we learn an embedding for the graph, using a neural network. This is where Parametric UMAP differs from non-parametric UMAP."
      ]
    },
    {
      "cell_type": "markdown",
      "metadata": {
        "id": "HU_xFy7uXWJb"
      },
      "source": [
        "### Create neural network model\n",
        "We first create a neural network to perform the parametric embedding. Here, we'll use a simple convolutional neural network"
      ]
    },
    {
      "cell_type": "code",
      "metadata": {
        "ExecuteTime": {
          "end_time": "2020-09-27T16:15:38.168118Z",
          "start_time": "2020-09-27T16:15:38.160072Z"
        },
        "id": "tdmhgmHXXWJc"
      },
      "source": [
        "import tensorflow as tf"
      ],
      "execution_count": null,
      "outputs": []
    },
    {
      "cell_type": "code",
      "metadata": {
        "ExecuteTime": {
          "end_time": "2020-09-27T16:15:39.551985Z",
          "start_time": "2020-09-27T16:15:38.169558Z"
        },
        "id": "IJHaCZBRXWJe",
        "outputId": "cfcd9d1b-cb6c-4c62-eeec-447f78533c4c",
        "colab": {
          "base_uri": "https://localhost:8080/"
        }
      },
      "source": [
        "n_components = 2 # number of latent dimensions\n",
        "dims = X.shape[1:]\n",
        "encoder = tf.keras.Sequential([\n",
        "    tf.keras.layers.InputLayer(input_shape=dims),\n",
        "    tf.keras.layers.Conv2D(\n",
        "        filters=64, kernel_size=3, strides=(2, 2), activation=\"relu\", padding=\"same\"\n",
        "    ),\n",
        "    tf.keras.layers.Conv2D(\n",
        "        filters=128, kernel_size=3, strides=(2, 2), activation=\"relu\", padding=\"same\"\n",
        "    ),\n",
        "    tf.keras.layers.Flatten(),\n",
        "    tf.keras.layers.Dense(units=512, activation=\"relu\"),\n",
        "    tf.keras.layers.Dense(units=512, activation=\"relu\"),\n",
        "    tf.keras.layers.Dense(units=n_components),\n",
        "])\n",
        "encoder.summary()"
      ],
      "execution_count": null,
      "outputs": [
        {
          "output_type": "stream",
          "text": [
            "Model: \"sequential\"\n",
            "_________________________________________________________________\n",
            "Layer (type)                 Output Shape              Param #   \n",
            "=================================================================\n",
            "conv2d (Conv2D)              (None, 14, 14, 64)        640       \n",
            "_________________________________________________________________\n",
            "conv2d_1 (Conv2D)            (None, 7, 7, 128)         73856     \n",
            "_________________________________________________________________\n",
            "flatten (Flatten)            (None, 6272)              0         \n",
            "_________________________________________________________________\n",
            "dense (Dense)                (None, 512)               3211776   \n",
            "_________________________________________________________________\n",
            "dense_1 (Dense)              (None, 512)               262656    \n",
            "_________________________________________________________________\n",
            "dense_2 (Dense)              (None, 2)                 1026      \n",
            "=================================================================\n",
            "Total params: 3,549,954\n",
            "Trainable params: 3,549,954\n",
            "Non-trainable params: 0\n",
            "_________________________________________________________________\n"
          ],
          "name": "stdout"
        }
      ]
    },
    {
      "cell_type": "markdown",
      "metadata": {
        "id": "HZcr-OxiXWJg"
      },
      "source": [
        "### create batch iterator\n",
        "\n",
        "We now want to create a dataset to iterate over batches of edges and their nearest-neighbors in our dataset. We're basically just creating a tensorflow dataset that iterates over batches of nearest neighbors, based upon the probabilities determined by the graph we produced (higher probability edges are sampled more frequently).  \n",
        "\n",
        "If you're curious about what's under the hood look at the `construct_edge_dataset` function. Or take a look at the example plot of nearest neighbors below."
      ]
    },
    {
      "cell_type": "code",
      "metadata": {
        "ExecuteTime": {
          "end_time": "2020-09-27T16:15:39.663584Z",
          "start_time": "2020-09-27T16:15:39.553435Z"
        },
        "id": "O7GsMQwoXWJg"
      },
      "source": [
        "from umap.parametric_umap import construct_edge_dataset"
      ],
      "execution_count": null,
      "outputs": []
    },
    {
      "cell_type": "code",
      "metadata": {
        "ExecuteTime": {
          "end_time": "2020-09-27T16:15:39.666992Z",
          "start_time": "2020-09-27T16:15:39.664769Z"
        },
        "id": "faN3z3zCXWJj"
      },
      "source": [
        "# n_epochs isused to compute epochs_per_sample, which, in non-parametric UMAP,\n",
        "# is the total number of epochs to optimize embeddings over. The computed value\n",
        "# epochs_per_sample, is the number of epochs  each edge is optimized over\n",
        "# (higher probability = more epochs).\n",
        "n_epochs = 200\n",
        "\n",
        "batch_size = 1000 # iterate over batches of 1000 edges"
      ],
      "execution_count": null,
      "outputs": []
    },
    {
      "cell_type": "code",
      "metadata": {
        "ExecuteTime": {
          "end_time": "2020-09-27T16:15:41.137997Z",
          "start_time": "2020-09-27T16:15:39.668026Z"
        },
        "id": "TATkwNA6XWJl"
      },
      "source": [
        "# get tensorflow dataset of edges\n",
        "(\n",
        "    edge_dataset,\n",
        "    batch_size,\n",
        "    n_edges,\n",
        "    head,\n",
        "    tail,\n",
        "    edge_weight,\n",
        ") = construct_edge_dataset(\n",
        "    X,\n",
        "    umap_graph,\n",
        "    n_epochs,\n",
        "    batch_size,\n",
        "    parametric_embedding = True,\n",
        "    parametric_reconstruction = False,\n",
        ")"
      ],
      "execution_count": null,
      "outputs": []
    },
    {
      "cell_type": "code",
      "metadata": {
        "ExecuteTime": {
          "end_time": "2020-09-27T16:15:41.495575Z",
          "start_time": "2020-09-27T16:15:41.139558Z"
        },
        "id": "GizhoeujXWJn",
        "outputId": "258a206b-2b3e-48a5-c724-284a006c589c",
        "colab": {
          "base_uri": "https://localhost:8080/"
        }
      },
      "source": [
        "(sample_edge_to_x, sample_edge_from_x), _ =  next(iter(edge_dataset))\n",
        "sample_edge_to_x.shape"
      ],
      "execution_count": null,
      "outputs": [
        {
          "output_type": "execute_result",
          "data": {
            "text/plain": [
              "TensorShape([1000, 28, 28, 1])"
            ]
          },
          "metadata": {
            "tags": []
          },
          "execution_count": 18
        }
      ]
    },
    {
      "cell_type": "code",
      "metadata": {
        "ExecuteTime": {
          "end_time": "2020-09-27T16:15:42.702893Z",
          "start_time": "2020-09-27T16:15:41.497156Z"
        },
        "id": "6Hzc2dZFXWJp"
      },
      "source": [
        "import matplotlib.pyplot as plt"
      ],
      "execution_count": null,
      "outputs": []
    },
    {
      "cell_type": "code",
      "metadata": {
        "ExecuteTime": {
          "end_time": "2020-09-27T16:15:43.361195Z",
          "start_time": "2020-09-27T16:15:42.704686Z"
        },
        "id": "pew_u7DmXWJr",
        "outputId": "3a6699f2-17af-46fc-a939-22a28e653a43",
        "colab": {
          "base_uri": "https://localhost:8080/",
          "height": 137
        }
      },
      "source": [
        "# plot sampled neighbors from graph\n",
        "fig, axs = plt.subplots(nrows=2, ncols=10, figsize=(10,2))\n",
        "for i in range(10):\n",
        "    axs[0,i].matshow(np.squeeze(sample_edge_to_x[i]), cmap=plt.cm.Greys)\n",
        "    axs[1,i].matshow((np.squeeze(sample_edge_from_x[i])), cmap=plt.cm.Greys)\n",
        "    axs[0,i].axis('off')\n",
        "    axs[1,i].axis('off')"
      ],
      "execution_count": null,
      "outputs": [
        {
          "output_type": "display_data",
          "data": {
            "image/png": "[encoded data removed]",
            "text/plain": [
              "<Figure size 720x144 with 20 Axes>"
            ]
          },
          "metadata": {
            "tags": [],
            "needs_background": "light"
          }
        }
      ]
    },
    {
      "cell_type": "markdown",
      "metadata": {
        "id": "qeawk5q0XWJt"
      },
      "source": [
        "### Compute loss over a batch\n",
        "Now that we have an example batch, we'll walk through how UMAP's loss is computed over the batch."
      ]
    },
    {
      "cell_type": "code",
      "metadata": {
        "ExecuteTime": {
          "end_time": "2020-09-27T16:15:43.365524Z",
          "start_time": "2020-09-27T16:15:43.362814Z"
        },
        "id": "ZMZFnHpsXWJt"
      },
      "source": [
        "from umap.parametric_umap import umap_loss"
      ],
      "execution_count": null,
      "outputs": []
    },
    {
      "cell_type": "markdown",
      "metadata": {
        "id": "FX90m_4MXWJv"
      },
      "source": [
        "#### Compute $a$ and $b$ parameters.\n",
        "These relate to UMAP's `min_dist` hyperparameter, that determines how spread apart points should be. This only needs to be computed once. These paremeters are used in the calculation of $q_{i j}^{\\textrm{UMAP}}$ (see below)."
      ]
    },
    {
      "cell_type": "code",
      "metadata": {
        "ExecuteTime": {
          "end_time": "2020-09-27T16:15:43.376088Z",
          "start_time": "2020-09-27T16:15:43.366777Z"
        },
        "id": "KTw_Jew-XWJw"
      },
      "source": [
        "from umap.umap_ import find_ab_params"
      ],
      "execution_count": null,
      "outputs": []
    },
    {
      "cell_type": "code",
      "metadata": {
        "ExecuteTime": {
          "end_time": "2020-09-27T16:15:43.385287Z",
          "start_time": "2020-09-27T16:15:43.378237Z"
        },
        "id": "wJ3sWD0dXWJx"
      },
      "source": [
        "min_dist = 0.1 # controls how tightly UMAP is allowed to pack points together (0 is more)"
      ],
      "execution_count": null,
      "outputs": []
    },
    {
      "cell_type": "code",
      "metadata": {
        "ExecuteTime": {
          "end_time": "2020-09-27T16:15:43.396888Z",
          "start_time": "2020-09-27T16:15:43.386952Z"
        },
        "id": "NAvsgXlzXWJz"
      },
      "source": [
        "_a, _b = find_ab_params(1.0, min_dist)"
      ],
      "execution_count": null,
      "outputs": []
    },
    {
      "cell_type": "markdown",
      "metadata": {
        "id": "_CKHhwWhXWJ1"
      },
      "source": [
        "### Grab the embeddings\n",
        "First, We pass the batched data through the network to get the corresponding embeddings."
      ]
    },
    {
      "cell_type": "code",
      "metadata": {
        "ExecuteTime": {
          "end_time": "2020-09-27T16:15:44.826161Z",
          "start_time": "2020-09-27T16:15:43.407645Z"
        },
        "id": "jBzHLMH9XWJ4"
      },
      "source": [
        "# grab z for the edge\n",
        "embedding_to = encoder.predict(sample_edge_to_x)\n",
        "embedding_from = encoder.predict(sample_edge_from_x)"
      ],
      "execution_count": null,
      "outputs": []
    },
    {
      "cell_type": "markdown",
      "metadata": {
        "id": "CvvZwFNbXWJ6"
      },
      "source": [
        "##### Next, negative samples are taken by shuffling the batch.\n",
        "The assumption is that randomly paired embeddings should have an edge probability of zero (i.e. negative sampling)."
      ]
    },
    {
      "cell_type": "code",
      "metadata": {
        "ExecuteTime": {
          "end_time": "2020-09-27T16:15:43.406014Z",
          "start_time": "2020-09-27T16:15:43.399444Z"
        },
        "id": "HomVD_qMXWJ2"
      },
      "source": [
        "negative_sample_rate = 5 # how many negative samples to train on per edge."
      ],
      "execution_count": null,
      "outputs": []
    },
    {
      "cell_type": "code",
      "metadata": {
        "ExecuteTime": {
          "end_time": "2020-09-27T16:15:44.837232Z",
          "start_time": "2020-09-27T16:15:44.829958Z"
        },
        "id": "FR-ZHe91XWJ7"
      },
      "source": [
        "# get negative samples by randomly shuffling the batch\n",
        "embedding_neg_to = tf.repeat(embedding_to, negative_sample_rate, axis=0)\n",
        "repeat_neg = tf.repeat(embedding_from, negative_sample_rate, axis=0)\n",
        "embedding_neg_from = tf.gather(\n",
        "    repeat_neg, tf.random.shuffle(tf.range(tf.shape(repeat_neg)[0]))\n",
        ")"
      ],
      "execution_count": null,
      "outputs": []
    },
    {
      "cell_type": "markdown",
      "metadata": {
        "id": "6ynrfShGXWJ8"
      },
      "source": [
        "##### Now we compute the probabilities in embedding space"
      ]
    },
    {
      "cell_type": "markdown",
      "metadata": {
        "id": "tDXJL-yqXWJ9"
      },
      "source": [
        "$$\n",
        "q_{i j}^{\\textrm{UMAP}}=\\left(1+a\\ \\|z_{i}-z_{j}||^{2 b}\\right)^{-1}\n",
        "$$"
      ]
    },
    {
      "cell_type": "code",
      "metadata": {
        "ExecuteTime": {
          "end_time": "2020-09-27T16:15:44.846004Z",
          "start_time": "2020-09-27T16:15:44.838545Z"
        },
        "id": "sxroa1MlXWJ9"
      },
      "source": [
        "# Euclidean distances between samples (and negative samples)\n",
        "distance_embedding = tf.concat(\n",
        "    [\n",
        "        tf.norm(embedding_to - embedding_from, axis=1),\n",
        "        tf.norm(embedding_neg_to - embedding_neg_from, axis=1),\n",
        "    ],\n",
        "    axis=0,\n",
        ")"
      ],
      "execution_count": null,
      "outputs": []
    },
    {
      "cell_type": "code",
      "metadata": {
        "ExecuteTime": {
          "end_time": "2020-09-27T16:15:44.855819Z",
          "start_time": "2020-09-27T16:15:44.847240Z"
        },
        "id": "XIIRtOp6XWJ_"
      },
      "source": [
        "def convert_distance_to_probability(distances, a=1.0, b=1.0):\n",
        "    return 1.0 / (1.0 + a * distances ** (2 * b))\n",
        "\n",
        "# convert probabilities to distances\n",
        "probabilities_distance = convert_distance_to_probability(\n",
        "    distance_embedding, _a, _b\n",
        ")"
      ],
      "execution_count": null,
      "outputs": []
    },
    {
      "cell_type": "markdown",
      "metadata": {
        "id": "N7KVpI62HqD6"
      },
      "source": [
        "We treat all edges as having a probability of 1, and all negative samples as having a probability of 0."
      ]
    },
    {
      "cell_type": "code",
      "metadata": {
        "ExecuteTime": {
          "end_time": "2020-09-27T16:15:44.872352Z",
          "start_time": "2020-09-27T16:15:44.857101Z"
        },
        "id": "iAQ5IYFzXWKB"
      },
      "source": [
        "# set true probabilities based on negative sampling\n",
        "probabilities_graph = tf.concat(\n",
        "    [tf.ones(batch_size), tf.zeros(batch_size * negative_sample_rate)], axis=0,\n",
        ")"
      ],
      "execution_count": null,
      "outputs": []
    },
    {
      "cell_type": "markdown",
      "metadata": {
        "id": "1WgYapvYXWKD"
      },
      "source": [
        "##### Finally, we compute the cross entropy cost that UMAP will optimize using gradient descent:"
      ]
    },
    {
      "cell_type": "markdown",
      "metadata": {
        "ExecuteTime": {
          "end_time": "2020-09-27T16:04:12.033566Z",
          "start_time": "2020-09-27T16:04:12.025360Z"
        },
        "id": "eV7zYYFHXWKE"
      },
      "source": [
        "$$\n",
        "C_{\\textrm{UMAP}}= \\sum_{i \\neq j} p_{i j} \\log \\left(\\frac{p_{i j}}{q_{i j}}\\right)+\\left(1-p_{i j}\\right) \\log \\left(\\frac{1-p_{i j}}{1-q_{i j}}\\right)\n",
        "$$"
      ]
    },
    {
      "cell_type": "code",
      "metadata": {
        "ExecuteTime": {
          "end_time": "2020-09-27T16:15:44.881612Z",
          "start_time": "2020-09-27T16:15:44.874143Z"
        },
        "id": "AqjaSanDXWKG"
      },
      "source": [
        "def compute_cross_entropy(\n",
        "    probabilities_graph, probabilities_distance, EPS=1e-4, repulsion_strength=1.0\n",
        "):\n",
        "    # cross entropy\n",
        "    attraction_term = -probabilities_graph * tf.math.log(\n",
        "        tf.clip_by_value(probabilities_distance, EPS, 1.0)\n",
        "    )\n",
        "    repellant_term = (\n",
        "        -(1.0 - probabilities_graph)\n",
        "        * tf.math.log(tf.clip_by_value(1.0 - probabilities_distance, EPS, 1.0))\n",
        "        * repulsion_strength\n",
        "    )\n",
        "\n",
        "    # balance the expected losses between atrraction and repel\n",
        "    CE = attraction_term + repellant_term\n",
        "    return attraction_term, repellant_term, CE"
      ],
      "execution_count": null,
      "outputs": []
    },
    {
      "cell_type": "code",
      "metadata": {
        "ExecuteTime": {
          "end_time": "2020-09-27T16:15:44.892771Z",
          "start_time": "2020-09-27T16:15:44.882751Z"
        },
        "id": "j9bF2C2zXWKI"
      },
      "source": [
        "# compute cross entropy\n",
        "(attraction_loss, repellant_loss, ce_loss) = compute_cross_entropy(\n",
        "    probabilities_graph,\n",
        "    probabilities_distance,\n",
        ")"
      ],
      "execution_count": null,
      "outputs": []
    },
    {
      "cell_type": "markdown",
      "metadata": {
        "id": "Eat61bMWXWKJ"
      },
      "source": [
        "#### Creating a loss function\n",
        "For the next step, we've packaged the code above into a loss function that will work with Keras. It's doing the same thing as the code above, just packaged into a function."
      ]
    },
    {
      "cell_type": "code",
      "metadata": {
        "ExecuteTime": {
          "end_time": "2020-09-27T16:15:44.901064Z",
          "start_time": "2020-09-27T16:15:44.894470Z"
        },
        "id": "V-u-UJYIXWKK"
      },
      "source": [
        "from umap.parametric_umap import umap_loss\n",
        "\n",
        "umap_loss_fn = umap_loss(\n",
        "    batch_size,\n",
        "    negative_sample_rate,\n",
        "    _a,\n",
        "    _b,\n",
        "    edge_weight,\n",
        "    parametric_embedding = True\n",
        ")"
      ],
      "execution_count": null,
      "outputs": []
    },
    {
      "cell_type": "markdown",
      "metadata": {
        "id": "qxcSof65XWKM"
      },
      "source": [
        "### Define and compile the Keras model\n",
        "We can now define the network as a keras model, which will optimize over the loss function we defined.\n",
        "\n",
        "In the code from the paper, we used custom training loops rather than optimizing directly with Keras, but for simplicitly, we'll use Keras here.\n",
        "\n",
        "Tip: Try adding in a decoder and reconstruction loss here to make a UMAP autoencoder. Look at the code from our paper's repository if you need help."
      ]
    },
    {
      "cell_type": "code",
      "metadata": {
        "ExecuteTime": {
          "end_time": "2020-09-27T16:15:44.945677Z",
          "start_time": "2020-09-27T16:15:44.902298Z"
        },
        "id": "yfBEwstfXWKM"
      },
      "source": [
        "# define the inputs\n",
        "to_x = tf.keras.layers.Input(shape=dims, name=\"to_x\")\n",
        "from_x = tf.keras.layers.Input(shape=dims, name=\"from_x\")\n",
        "inputs = [to_x, from_x]\n",
        "\n",
        "# parametric embedding\n",
        "embedding_to = encoder(to_x)\n",
        "embedding_from = encoder(from_x)\n",
        "\n",
        "# concatenate to/from projections for loss computation\n",
        "embedding_to_from = tf.concat([embedding_to, embedding_from], axis=1)\n",
        "embedding_to_from = tf.keras.layers.Lambda(lambda x: x, name=\"umap\")(\n",
        "    embedding_to_from\n",
        ")\n",
        "outputs = {'umap': embedding_to_from}\n",
        "\n",
        "# create model\n",
        "parametric_model = tf.keras.Model(inputs=inputs, outputs=outputs,)"
      ],
      "execution_count": null,
      "outputs": []
    },
    {
      "cell_type": "code",
      "metadata": {
        "ExecuteTime": {
          "end_time": "2020-09-27T16:15:44.949238Z",
          "start_time": "2020-09-27T16:15:44.946827Z"
        },
        "id": "gjMosfrgXWKO"
      },
      "source": [
        "optimizer = tf.keras.optimizers.Adam(1e-3)"
      ],
      "execution_count": null,
      "outputs": []
    },
    {
      "cell_type": "code",
      "metadata": {
        "ExecuteTime": {
          "end_time": "2020-09-27T16:15:44.979067Z",
          "start_time": "2020-09-27T16:15:44.950538Z"
        },
        "id": "c67DDZsQXWKQ"
      },
      "source": [
        "parametric_model.compile(\n",
        "    optimizer=optimizer, loss=umap_loss_fn\n",
        ")"
      ],
      "execution_count": null,
      "outputs": []
    },
    {
      "cell_type": "markdown",
      "metadata": {
        "id": "mb0pwMmcXWKR"
      },
      "source": [
        "### Fit model\n",
        "Try training for more or fewer epochs to see the embeddings over time."
      ]
    },
    {
      "cell_type": "code",
      "metadata": {
        "ExecuteTime": {
          "end_time": "2020-09-27T16:15:44.982902Z",
          "start_time": "2020-09-27T16:15:44.980150Z"
        },
        "id": "iQfCHVWOXWKS"
      },
      "source": [
        "# Steps per epoch determines how many training steps we take, before keras\n",
        "#. starts a new epoch. To get more frequent reporting, you can set the number\n",
        "#. of epochs higher and the number of steps per epoch lower.\n",
        "steps_per_epoch = int(\n",
        "    n_edges / batch_size / 5\n",
        ")"
      ],
      "execution_count": null,
      "outputs": []
    },
    {
      "cell_type": "code",
      "metadata": {
        "ExecuteTime": {
          "start_time": "2020-09-27T16:15:03.564Z"
        },
        "id": "UEuddq87XWKT",
        "outputId": "328c97de-262d-41df-fb2c-45fe784d2132",
        "colab": {
          "base_uri": "https://localhost:8080/"
        }
      },
      "source": [
        "# create embedding\n",
        "history = parametric_model.fit(\n",
        "    edge_dataset,\n",
        "    epochs=20,\n",
        "    steps_per_epoch=steps_per_epoch,\n",
        "    max_queue_size=100,\n",
        ")"
      ],
      "execution_count": null,
      "outputs": [
        {
          "output_type": "stream",
          "text": [
            "Epoch 1/20\n",
            "  2/629 [..............................] - ETA: 15s - loss: 0.5430WARNING:tensorflow:Callbacks method `on_train_batch_end` is slow compared to the batch time (batch time: 0.0114s vs `on_train_batch_end` time: 0.0392s). Check your callbacks.\n",
            "629/629 [==============================] - 25s 39ms/step - loss: 0.1818\n",
            "Epoch 2/20\n",
            "629/629 [==============================] - 25s 40ms/step - loss: 0.1366\n",
            "Epoch 3/20\n",
            "629/629 [==============================] - 25s 41ms/step - loss: 0.1271\n",
            "Epoch 4/20\n",
            "629/629 [==============================] - 26s 41ms/step - loss: 0.1221\n",
            "Epoch 5/20\n",
            "629/629 [==============================] - 26s 41ms/step - loss: 0.1183\n",
            "Epoch 6/20\n",
            "629/629 [==============================] - 26s 41ms/step - loss: 0.1150\n",
            "Epoch 7/20\n",
            "629/629 [==============================] - 26s 41ms/step - loss: 0.1135\n",
            "Epoch 8/20\n",
            "629/629 [==============================] - 26s 41ms/step - loss: 0.1129\n",
            "Epoch 9/20\n",
            "629/629 [==============================] - 26s 41ms/step - loss: 0.1110\n",
            "Epoch 10/20\n",
            "629/629 [==============================] - 26s 41ms/step - loss: 0.1095\n",
            "Epoch 11/20\n",
            "629/629 [==============================] - 26s 41ms/step - loss: 0.1084\n",
            "Epoch 12/20\n",
            "629/629 [==============================] - 26s 41ms/step - loss: 0.1077\n",
            "Epoch 13/20\n",
            "629/629 [==============================] - 26s 41ms/step - loss: 0.1063\n",
            "Epoch 14/20\n",
            "629/629 [==============================] - 26s 41ms/step - loss: 0.1059\n",
            "Epoch 15/20\n",
            "629/629 [==============================] - 26s 41ms/step - loss: 0.1053\n",
            "Epoch 16/20\n",
            "629/629 [==============================] - 26s 41ms/step - loss: 0.1049\n",
            "Epoch 17/20\n",
            "629/629 [==============================] - 26s 41ms/step - loss: 0.1046\n",
            "Epoch 18/20\n",
            "629/629 [==============================] - 26s 41ms/step - loss: 0.1041\n",
            "Epoch 19/20\n",
            "629/629 [==============================] - 26s 41ms/step - loss: 0.1032\n",
            "Epoch 20/20\n",
            "629/629 [==============================] - 26s 41ms/step - loss: 0.1034\n"
          ],
          "name": "stdout"
        }
      ]
    },
    {
      "cell_type": "markdown",
      "metadata": {
        "id": "y-0ifB4vXWKV"
      },
      "source": [
        "#### plot the loss"
      ]
    },
    {
      "cell_type": "code",
      "metadata": {
        "ExecuteTime": {
          "start_time": "2020-09-27T16:15:03.566Z"
        },
        "id": "vso_3RiOXWKV",
        "outputId": "716d2dc1-5d75-46e2-f35c-616cda95fadd",
        "colab": {
          "base_uri": "https://localhost:8080/",
          "height": 281
        }
      },
      "source": [
        "plt.plot(history.history['loss'])"
      ],
      "execution_count": null,
      "outputs": [
        {
          "output_type": "execute_result",
          "data": {
            "text/plain": [
              "[<matplotlib.lines.Line2D at 0x7f1addf558d0>]"
            ]
          },
          "metadata": {
            "tags": []
          },
          "execution_count": 44
        },
        {
          "output_type": "display_data",
          "data": {
            "image/png": "[encoded data removed]",
            "text/plain": [
              "<Figure size 432x288 with 1 Axes>"
            ]
          },
          "metadata": {
            "tags": [],
            "needs_background": "light"
          }
        }
      ]
    },
    {
      "cell_type": "markdown",
      "metadata": {
        "id": "H9ng1tgwXWKY"
      },
      "source": [
        "#### Take look at the final embeddings"
      ]
    },
    {
      "cell_type": "code",
      "metadata": {
        "ExecuteTime": {
          "start_time": "2020-09-27T16:15:03.567Z"
        },
        "id": "7_tE80qqXWKY"
      },
      "source": [
        "# Project data\n",
        "z = encoder.predict(X)"
      ],
      "execution_count": null,
      "outputs": []
    },
    {
      "cell_type": "code",
      "metadata": {
        "ExecuteTime": {
          "start_time": "2020-09-27T16:15:03.570Z"
        },
        "id": "QsKUXLMXXWKd",
        "outputId": "81fef984-a465-410a-d561-43e9069282e7",
        "colab": {
          "base_uri": "https://localhost:8080/",
          "height": 520
        }
      },
      "source": [
        "fig, ax = plt.subplots(ncols=1, figsize=(10, 8))\n",
        "sc = ax.scatter(\n",
        "    z[:, 0],\n",
        "    z[:, 1],\n",
        "    c=train_labels,\n",
        "    cmap=\"tab10\",\n",
        "    s=0.1,\n",
        "    alpha=0.5,\n",
        "    rasterized=True,\n",
        ")\n",
        "ax.axis('equal')\n",
        "ax.set_title(\"UMAP embeddings\", fontsize=20)"
      ],
      "execution_count": null,
      "outputs": [
        {
          "output_type": "execute_result",
          "data": {
            "text/plain": [
              "Text(0.5, 1.0, 'UMAP embeddings')"
            ]
          },
          "metadata": {
            "tags": []
          },
          "execution_count": 43
        },
        {
          "output_type": "display_data",
          "data": {
            "image/png": "[encoded data removed]",
            "text/plain": [
              "<Figure size 720x576 with 1 Axes>"
            ]
          },
          "metadata": {
            "tags": [],
            "needs_background": "light"
          }
        }
      ]
    },
    {
      "cell_type": "code",
      "metadata": {
        "id": "NGtACDBOhqHJ"
      },
      "source": [],
      "execution_count": null,
      "outputs": []
    }
  ]
}